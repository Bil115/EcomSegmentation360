{
 "cells": [
  {
   "cell_type": "markdown",
   "id": "557c7eb1-dd2b-49f5-9b31-b0e28820b1fe",
   "metadata": {},
   "source": [
    "# 🛒 Customer Segmentation for E-Commerce: RFM, Cohort Analysis & K-Means  \n",
    "\n",
    "## 📌 Project Overview  \n",
    "This project focuses on **customer segmentation** for a Brazilian e-commerce platform using **RFM analysis, cohort analysis, and K-Means clustering**. By analyzing historical customer transactions, we aim to uncover key purchasing behaviors and segment customers into meaningful groups for better business decision-making.  \n",
    "\n",
    "## 🎯 Goals  \n",
    "✔ Identify customer purchasing patterns using **RFM Analysis**  \n",
    "✔ Analyze customer retention trends using **Cohort Analysis**  \n",
    "✔ Apply **K-Means Clustering** for data-driven segmentation  \n",
    "✔ Provide actionable insights for marketing strategies  \n",
    "\n",
    "## 🔍 Dataset Information  \n",
    "We will be using the **Olist Brazilian E-Commerce Dataset**, which contains various CSV files related to **orders, customers, payments, and items**.  \n",
    "\n",
    "## 🛠️ Tools & Libraries  \n",
    "- **Python**: `pandas`, `numpy`, `matplotlib`, `seaborn`, `sklearn`  \n",
    "- **Segmentation Techniques**: `RFM Analysis`, `Cohort Analysis`, `K-Means Clustering`  \n",
    "\n",
    "---  \n"
   ]
  },
  {
   "cell_type": "code",
   "execution_count": 2,
   "id": "b1aba228-1be1-45c9-8ca9-cfd81ff45d25",
   "metadata": {},
   "outputs": [],
   "source": [
    "import warnings\n",
    "warnings.simplefilter(action='ignore', category=FutureWarning)\n"
   ]
  },
  {
   "cell_type": "code",
   "execution_count": 81,
   "id": "1ddf81d3-1f3b-404c-bea4-d644dff66359",
   "metadata": {},
   "outputs": [],
   "source": [
    "# Load necessary libraries\n",
    "import pandas as pd\n",
    "\n",
    "# Load datasets\n",
    "orders = pd.read_csv(\"olist_orders_dataset.csv\")\n",
    "payments = pd.read_csv(\"olist_order_payments_dataset.csv\")\n",
    "customers = pd.read_csv(\"olist_customers_dataset.csv\")\n",
    "order_items = pd.read_csv(\"olist_order_items_dataset.csv\")\n",
    "\n",
    "# Step 1: Merge orders with payments\n",
    "rfm_data = orders.merge(payments, on=\"order_id\", how=\"left\")\n",
    "\n",
    "# Step 2: Merge with customers\n",
    "rfm_data = rfm_data.merge(customers, on=\"customer_id\", how=\"left\")\n",
    "\n",
    "# Step 3: Merge with order_items\n",
    "rfm_data = rfm_data.merge(order_items, on=\"order_id\", how=\"left\")\n"
   ]
  },
  {
   "cell_type": "markdown",
   "id": "3b0bb9d4-33d5-4b51-bd39-b9ced2a06e57",
   "metadata": {},
   "source": [
    "## Exploratory Data Analysis"
   ]
  },
  {
   "cell_type": "code",
   "execution_count": 82,
   "id": "a4b48c5d-91e9-4cc3-9946-095c449f2f10",
   "metadata": {},
   "outputs": [
    {
     "name": "stdout",
     "output_type": "stream",
     "text": [
      "<class 'pandas.core.frame.DataFrame'>\n",
      "RangeIndex: 118434 entries, 0 to 118433\n",
      "Data columns (total 22 columns):\n",
      " #   Column                         Non-Null Count   Dtype  \n",
      "---  ------                         --------------   -----  \n",
      " 0   order_id                       118434 non-null  object \n",
      " 1   customer_id                    118434 non-null  object \n",
      " 2   order_status                   118434 non-null  object \n",
      " 3   order_purchase_timestamp       118434 non-null  object \n",
      " 4   order_approved_at              118258 non-null  object \n",
      " 5   order_delivered_carrier_date   116360 non-null  object \n",
      " 6   order_delivered_customer_date  115037 non-null  object \n",
      " 7   order_estimated_delivery_date  118434 non-null  object \n",
      " 8   payment_sequential             118431 non-null  float64\n",
      " 9   payment_type                   118431 non-null  object \n",
      " 10  payment_installments           118431 non-null  float64\n",
      " 11  payment_value                  118431 non-null  float64\n",
      " 12  customer_unique_id             118434 non-null  object \n",
      " 13  customer_zip_code_prefix       118434 non-null  int64  \n",
      " 14  customer_city                  118434 non-null  object \n",
      " 15  customer_state                 118434 non-null  object \n",
      " 16  order_item_id                  117604 non-null  float64\n",
      " 17  product_id                     117604 non-null  object \n",
      " 18  seller_id                      117604 non-null  object \n",
      " 19  shipping_limit_date            117604 non-null  object \n",
      " 20  price                          117604 non-null  float64\n",
      " 21  freight_value                  117604 non-null  float64\n",
      "dtypes: float64(6), int64(1), object(15)\n",
      "memory usage: 19.9+ MB\n"
     ]
    }
   ],
   "source": [
    "#Checking for important information from the data\n",
    "rfm_data.info()"
   ]
  },
  {
   "cell_type": "code",
   "execution_count": 83,
   "id": "deb134f9-f21c-4871-bb80-3e8c10e70a7e",
   "metadata": {},
   "outputs": [
    {
     "data": {
      "text/plain": [
       "order_id                            0\n",
       "customer_id                         0\n",
       "order_status                        0\n",
       "order_purchase_timestamp            0\n",
       "order_approved_at                 176\n",
       "order_delivered_carrier_date     2074\n",
       "order_delivered_customer_date    3397\n",
       "order_estimated_delivery_date       0\n",
       "payment_sequential                  3\n",
       "payment_type                        3\n",
       "payment_installments                3\n",
       "payment_value                       3\n",
       "customer_unique_id                  0\n",
       "customer_zip_code_prefix            0\n",
       "customer_city                       0\n",
       "customer_state                      0\n",
       "order_item_id                     830\n",
       "product_id                        830\n",
       "seller_id                         830\n",
       "shipping_limit_date               830\n",
       "price                             830\n",
       "freight_value                     830\n",
       "dtype: int64"
      ]
     },
     "execution_count": 83,
     "metadata": {},
     "output_type": "execute_result"
    }
   ],
   "source": [
    "rfm_data.isna().sum()"
   ]
  },
  {
   "cell_type": "code",
   "execution_count": 84,
   "id": "18f0903c-2696-45cd-9ed1-eaae1335bf27",
   "metadata": {},
   "outputs": [
    {
     "name": "stdout",
     "output_type": "stream",
     "text": [
      "Missing Values After Cleaning:\n",
      " order_id                            0\n",
      "order_status                        0\n",
      "order_purchase_timestamp            0\n",
      "order_delivered_carrier_date     2074\n",
      "order_delivered_customer_date    3397\n",
      "payment_type                        3\n",
      "payment_value                       3\n",
      "customer_unique_id                  0\n",
      "customer_city                       0\n",
      "customer_state                      0\n",
      "dtype: int64\n"
     ]
    }
   ],
   "source": [
    "# Drop unnecessary unnecessary\n",
    "rfm_data.drop(columns=['order_item_id','order_estimated_delivery_date','customer_zip_code_prefix', 'product_id', 'seller_id','customer_id', 'shipping_limit_date', 'price', 'freight_value', 'order_approved_at'], inplace=True)\n",
    "\n",
    "# Drop the remaining columns\n",
    "rfm_data.drop(columns=['payment_sequential', 'payment_installments'], inplace=True)\n",
    "\n",
    "# Confirm missing values after cleaning\n",
    "print(\"Missing Values After Cleaning:\\n\", rfm_data.isnull().sum())\n"
   ]
  },
  {
   "cell_type": "code",
   "execution_count": 85,
   "id": "85139fb5-a91b-47b5-8815-d5ec84af2339",
   "metadata": {},
   "outputs": [],
   "source": [
    "# Fill missing values by assigning the result back to the column\n",
    "rfm_data['order_delivered_customer_date'] = rfm_data['order_delivered_customer_date'].fillna(\"Not Delivered\")\n",
    "rfm_data['order_delivered_carrier_date'] = rfm_data['order_delivered_carrier_date'].fillna(\"Not Shipped\")\n"
   ]
  },
  {
   "cell_type": "code",
   "execution_count": 86,
   "id": "c5eef6a7-29e9-494c-b731-5979cdf696fb",
   "metadata": {},
   "outputs": [],
   "source": [
    "#Dealing with missing values with the median\n",
    "rfm_data['payment_value'].fillna(rfm_data['payment_value'].median(), inplace=True)\n",
    "\n",
    "#Dealing with missing info with the mode in payment type\n",
    "rfm_data['payment_type'].fillna(rfm_data['payment_type'].mode()[0], inplace=True)"
   ]
  },
  {
   "cell_type": "code",
   "execution_count": 87,
   "id": "724f04bf-e8dd-444b-b14e-e9eb1a8d269d",
   "metadata": {},
   "outputs": [
    {
     "data": {
      "text/plain": [
       "order_id                         0\n",
       "order_status                     0\n",
       "order_purchase_timestamp         0\n",
       "order_delivered_carrier_date     0\n",
       "order_delivered_customer_date    0\n",
       "payment_type                     0\n",
       "payment_value                    0\n",
       "customer_unique_id               0\n",
       "customer_city                    0\n",
       "customer_state                   0\n",
       "dtype: int64"
      ]
     },
     "execution_count": 87,
     "metadata": {},
     "output_type": "execute_result"
    }
   ],
   "source": [
    "#Checking to see if their are empty row\n",
    "rfm_data.isna().sum()"
   ]
  },
  {
   "cell_type": "code",
   "execution_count": 88,
   "id": "1d55a59c-c0c9-46e0-8a1f-7f7ddef0dd87",
   "metadata": {},
   "outputs": [],
   "source": [
    "# Convert date columns to datetime for time series analysis\n",
    "rfm_data['order_delivered_carrier_date'] = pd.to_datetime(rfm_data['order_delivered_carrier_date'], errors='coerce')\n",
    "rfm_data['order_purchase_timestamp'] = pd.to_datetime(rfm_data['order_purchase_timestamp'], errors='coerce')\n",
    "rfm_data['order_delivered_customer_date'] = pd.to_datetime(rfm_data['order_delivered_customer_date'], errors='coerce')\n"
   ]
  },
  {
   "cell_type": "code",
   "execution_count": 89,
   "id": "51d8c363-c667-4baa-ab77-5f594ce9d665",
   "metadata": {},
   "outputs": [
    {
     "data": {
      "text/html": [
       "<div>\n",
       "<style scoped>\n",
       "    .dataframe tbody tr th:only-of-type {\n",
       "        vertical-align: middle;\n",
       "    }\n",
       "\n",
       "    .dataframe tbody tr th {\n",
       "        vertical-align: top;\n",
       "    }\n",
       "\n",
       "    .dataframe thead th {\n",
       "        text-align: right;\n",
       "    }\n",
       "</style>\n",
       "<table border=\"1\" class=\"dataframe\">\n",
       "  <thead>\n",
       "    <tr style=\"text-align: right;\">\n",
       "      <th></th>\n",
       "      <th>order_id</th>\n",
       "      <th>order_status</th>\n",
       "      <th>order_purchase_timestamp</th>\n",
       "      <th>order_delivered_carrier_date</th>\n",
       "      <th>order_delivered_customer_date</th>\n",
       "      <th>payment_type</th>\n",
       "      <th>payment_value</th>\n",
       "      <th>customer_unique_id</th>\n",
       "      <th>customer_city</th>\n",
       "      <th>customer_state</th>\n",
       "    </tr>\n",
       "  </thead>\n",
       "  <tbody>\n",
       "    <tr>\n",
       "      <th>0</th>\n",
       "      <td>e481f51cbdc54678b7cc49136f2d6af7</td>\n",
       "      <td>delivered</td>\n",
       "      <td>2017-10-02 10:56:33</td>\n",
       "      <td>2017-10-04 19:55:00</td>\n",
       "      <td>2017-10-10 21:25:13</td>\n",
       "      <td>credit_card</td>\n",
       "      <td>18.12</td>\n",
       "      <td>7c396fd4830fd04220f754e42b4e5bff</td>\n",
       "      <td>sao paulo</td>\n",
       "      <td>SP</td>\n",
       "    </tr>\n",
       "    <tr>\n",
       "      <th>1</th>\n",
       "      <td>e481f51cbdc54678b7cc49136f2d6af7</td>\n",
       "      <td>delivered</td>\n",
       "      <td>2017-10-02 10:56:33</td>\n",
       "      <td>2017-10-04 19:55:00</td>\n",
       "      <td>2017-10-10 21:25:13</td>\n",
       "      <td>voucher</td>\n",
       "      <td>2.00</td>\n",
       "      <td>7c396fd4830fd04220f754e42b4e5bff</td>\n",
       "      <td>sao paulo</td>\n",
       "      <td>SP</td>\n",
       "    </tr>\n",
       "    <tr>\n",
       "      <th>2</th>\n",
       "      <td>e481f51cbdc54678b7cc49136f2d6af7</td>\n",
       "      <td>delivered</td>\n",
       "      <td>2017-10-02 10:56:33</td>\n",
       "      <td>2017-10-04 19:55:00</td>\n",
       "      <td>2017-10-10 21:25:13</td>\n",
       "      <td>voucher</td>\n",
       "      <td>18.59</td>\n",
       "      <td>7c396fd4830fd04220f754e42b4e5bff</td>\n",
       "      <td>sao paulo</td>\n",
       "      <td>SP</td>\n",
       "    </tr>\n",
       "    <tr>\n",
       "      <th>3</th>\n",
       "      <td>53cdb2fc8bc7dce0b6741e2150273451</td>\n",
       "      <td>delivered</td>\n",
       "      <td>2018-07-24 20:41:37</td>\n",
       "      <td>2018-07-26 14:31:00</td>\n",
       "      <td>2018-08-07 15:27:45</td>\n",
       "      <td>boleto</td>\n",
       "      <td>141.46</td>\n",
       "      <td>af07308b275d755c9edb36a90c618231</td>\n",
       "      <td>barreiras</td>\n",
       "      <td>BA</td>\n",
       "    </tr>\n",
       "    <tr>\n",
       "      <th>4</th>\n",
       "      <td>47770eb9100c2d0c44946d9cf07ec65d</td>\n",
       "      <td>delivered</td>\n",
       "      <td>2018-08-08 08:38:49</td>\n",
       "      <td>2018-08-08 13:50:00</td>\n",
       "      <td>2018-08-17 18:06:29</td>\n",
       "      <td>credit_card</td>\n",
       "      <td>179.12</td>\n",
       "      <td>3a653a41f6f9fc3d2a113cf8398680e8</td>\n",
       "      <td>vianopolis</td>\n",
       "      <td>GO</td>\n",
       "    </tr>\n",
       "    <tr>\n",
       "      <th>...</th>\n",
       "      <td>...</td>\n",
       "      <td>...</td>\n",
       "      <td>...</td>\n",
       "      <td>...</td>\n",
       "      <td>...</td>\n",
       "      <td>...</td>\n",
       "      <td>...</td>\n",
       "      <td>...</td>\n",
       "      <td>...</td>\n",
       "      <td>...</td>\n",
       "    </tr>\n",
       "    <tr>\n",
       "      <th>118429</th>\n",
       "      <td>63943bddc261676b46f01ca7ac2f7bd8</td>\n",
       "      <td>delivered</td>\n",
       "      <td>2018-02-06 12:58:58</td>\n",
       "      <td>2018-02-07 23:22:42</td>\n",
       "      <td>2018-02-28 17:37:56</td>\n",
       "      <td>credit_card</td>\n",
       "      <td>195.00</td>\n",
       "      <td>da62f9e57a76d978d02ab5362c509660</td>\n",
       "      <td>praia grande</td>\n",
       "      <td>SP</td>\n",
       "    </tr>\n",
       "    <tr>\n",
       "      <th>118430</th>\n",
       "      <td>83c1379a015df1e13d02aae0204711ab</td>\n",
       "      <td>delivered</td>\n",
       "      <td>2017-08-27 14:46:43</td>\n",
       "      <td>2017-08-28 20:52:26</td>\n",
       "      <td>2017-09-21 11:24:17</td>\n",
       "      <td>credit_card</td>\n",
       "      <td>271.01</td>\n",
       "      <td>737520a9aad80b3fbbdad19b66b37b30</td>\n",
       "      <td>nova vicosa</td>\n",
       "      <td>BA</td>\n",
       "    </tr>\n",
       "    <tr>\n",
       "      <th>118431</th>\n",
       "      <td>11c177c8e97725db2631073c19f07b62</td>\n",
       "      <td>delivered</td>\n",
       "      <td>2018-01-08 21:28:27</td>\n",
       "      <td>2018-01-12 15:35:03</td>\n",
       "      <td>2018-01-25 23:32:54</td>\n",
       "      <td>credit_card</td>\n",
       "      <td>441.16</td>\n",
       "      <td>5097a5312c8b157bb7be58ae360ef43c</td>\n",
       "      <td>japuiba</td>\n",
       "      <td>RJ</td>\n",
       "    </tr>\n",
       "    <tr>\n",
       "      <th>118432</th>\n",
       "      <td>11c177c8e97725db2631073c19f07b62</td>\n",
       "      <td>delivered</td>\n",
       "      <td>2018-01-08 21:28:27</td>\n",
       "      <td>2018-01-12 15:35:03</td>\n",
       "      <td>2018-01-25 23:32:54</td>\n",
       "      <td>credit_card</td>\n",
       "      <td>441.16</td>\n",
       "      <td>5097a5312c8b157bb7be58ae360ef43c</td>\n",
       "      <td>japuiba</td>\n",
       "      <td>RJ</td>\n",
       "    </tr>\n",
       "    <tr>\n",
       "      <th>118433</th>\n",
       "      <td>66dea50a8b16d9b4dee7af250b4be1a5</td>\n",
       "      <td>delivered</td>\n",
       "      <td>2018-03-08 20:57:30</td>\n",
       "      <td>2018-03-09 22:11:59</td>\n",
       "      <td>2018-03-16 13:08:30</td>\n",
       "      <td>debit_card</td>\n",
       "      <td>86.86</td>\n",
       "      <td>60350aa974b26ff12caad89e55993bd6</td>\n",
       "      <td>lapa</td>\n",
       "      <td>PR</td>\n",
       "    </tr>\n",
       "  </tbody>\n",
       "</table>\n",
       "<p>118434 rows × 10 columns</p>\n",
       "</div>"
      ],
      "text/plain": [
       "                                order_id order_status  \\\n",
       "0       e481f51cbdc54678b7cc49136f2d6af7    delivered   \n",
       "1       e481f51cbdc54678b7cc49136f2d6af7    delivered   \n",
       "2       e481f51cbdc54678b7cc49136f2d6af7    delivered   \n",
       "3       53cdb2fc8bc7dce0b6741e2150273451    delivered   \n",
       "4       47770eb9100c2d0c44946d9cf07ec65d    delivered   \n",
       "...                                  ...          ...   \n",
       "118429  63943bddc261676b46f01ca7ac2f7bd8    delivered   \n",
       "118430  83c1379a015df1e13d02aae0204711ab    delivered   \n",
       "118431  11c177c8e97725db2631073c19f07b62    delivered   \n",
       "118432  11c177c8e97725db2631073c19f07b62    delivered   \n",
       "118433  66dea50a8b16d9b4dee7af250b4be1a5    delivered   \n",
       "\n",
       "       order_purchase_timestamp order_delivered_carrier_date  \\\n",
       "0           2017-10-02 10:56:33          2017-10-04 19:55:00   \n",
       "1           2017-10-02 10:56:33          2017-10-04 19:55:00   \n",
       "2           2017-10-02 10:56:33          2017-10-04 19:55:00   \n",
       "3           2018-07-24 20:41:37          2018-07-26 14:31:00   \n",
       "4           2018-08-08 08:38:49          2018-08-08 13:50:00   \n",
       "...                         ...                          ...   \n",
       "118429      2018-02-06 12:58:58          2018-02-07 23:22:42   \n",
       "118430      2017-08-27 14:46:43          2017-08-28 20:52:26   \n",
       "118431      2018-01-08 21:28:27          2018-01-12 15:35:03   \n",
       "118432      2018-01-08 21:28:27          2018-01-12 15:35:03   \n",
       "118433      2018-03-08 20:57:30          2018-03-09 22:11:59   \n",
       "\n",
       "       order_delivered_customer_date payment_type  payment_value  \\\n",
       "0                2017-10-10 21:25:13  credit_card          18.12   \n",
       "1                2017-10-10 21:25:13      voucher           2.00   \n",
       "2                2017-10-10 21:25:13      voucher          18.59   \n",
       "3                2018-08-07 15:27:45       boleto         141.46   \n",
       "4                2018-08-17 18:06:29  credit_card         179.12   \n",
       "...                              ...          ...            ...   \n",
       "118429           2018-02-28 17:37:56  credit_card         195.00   \n",
       "118430           2017-09-21 11:24:17  credit_card         271.01   \n",
       "118431           2018-01-25 23:32:54  credit_card         441.16   \n",
       "118432           2018-01-25 23:32:54  credit_card         441.16   \n",
       "118433           2018-03-16 13:08:30   debit_card          86.86   \n",
       "\n",
       "                      customer_unique_id customer_city customer_state  \n",
       "0       7c396fd4830fd04220f754e42b4e5bff     sao paulo             SP  \n",
       "1       7c396fd4830fd04220f754e42b4e5bff     sao paulo             SP  \n",
       "2       7c396fd4830fd04220f754e42b4e5bff     sao paulo             SP  \n",
       "3       af07308b275d755c9edb36a90c618231     barreiras             BA  \n",
       "4       3a653a41f6f9fc3d2a113cf8398680e8    vianopolis             GO  \n",
       "...                                  ...           ...            ...  \n",
       "118429  da62f9e57a76d978d02ab5362c509660  praia grande             SP  \n",
       "118430  737520a9aad80b3fbbdad19b66b37b30   nova vicosa             BA  \n",
       "118431  5097a5312c8b157bb7be58ae360ef43c       japuiba             RJ  \n",
       "118432  5097a5312c8b157bb7be58ae360ef43c       japuiba             RJ  \n",
       "118433  60350aa974b26ff12caad89e55993bd6          lapa             PR  \n",
       "\n",
       "[118434 rows x 10 columns]"
      ]
     },
     "execution_count": 89,
     "metadata": {},
     "output_type": "execute_result"
    }
   ],
   "source": [
    "rfm_data"
   ]
  },
  {
   "cell_type": "code",
   "execution_count": 92,
   "id": "2994ff39-abf1-4210-b990-d42af18d7210",
   "metadata": {},
   "outputs": [
    {
     "data": {
      "text/plain": [
       "order_id                                 object\n",
       "order_status                             object\n",
       "order_purchase_timestamp         datetime64[ns]\n",
       "order_delivered_carrier_date     datetime64[ns]\n",
       "order_delivered_customer_date    datetime64[ns]\n",
       "payment_type                             object\n",
       "payment_value                           float64\n",
       "customer_unique_id                       object\n",
       "customer_city                            object\n",
       "customer_state                           object\n",
       "dtype: object"
      ]
     },
     "execution_count": 92,
     "metadata": {},
     "output_type": "execute_result"
    }
   ],
   "source": [
    "rfm_data.dtypes"
   ]
  },
  {
   "cell_type": "code",
   "execution_count": 93,
   "id": "5fc1fd44-7f71-4ab2-969e-426a3b0c9475",
   "metadata": {},
   "outputs": [
    {
     "data": {
      "text/html": [
       "<div>\n",
       "<style scoped>\n",
       "    .dataframe tbody tr th:only-of-type {\n",
       "        vertical-align: middle;\n",
       "    }\n",
       "\n",
       "    .dataframe tbody tr th {\n",
       "        vertical-align: top;\n",
       "    }\n",
       "\n",
       "    .dataframe thead th {\n",
       "        text-align: right;\n",
       "    }\n",
       "</style>\n",
       "<table border=\"1\" class=\"dataframe\">\n",
       "  <thead>\n",
       "    <tr style=\"text-align: right;\">\n",
       "      <th></th>\n",
       "      <th>count</th>\n",
       "      <th>mean</th>\n",
       "      <th>min</th>\n",
       "      <th>25%</th>\n",
       "      <th>50%</th>\n",
       "      <th>75%</th>\n",
       "      <th>max</th>\n",
       "      <th>std</th>\n",
       "    </tr>\n",
       "  </thead>\n",
       "  <tbody>\n",
       "    <tr>\n",
       "      <th>order_purchase_timestamp</th>\n",
       "      <td>118434</td>\n",
       "      <td>2017-12-30 04:00:24.559636480</td>\n",
       "      <td>2016-09-04 21:15:19</td>\n",
       "      <td>2017-09-11 12:53:55.249999872</td>\n",
       "      <td>2018-01-17 17:57:56.500000</td>\n",
       "      <td>2018-05-03 19:05:01</td>\n",
       "      <td>2018-10-17 17:30:18</td>\n",
       "      <td>NaN</td>\n",
       "    </tr>\n",
       "    <tr>\n",
       "      <th>order_delivered_carrier_date</th>\n",
       "      <td>116360</td>\n",
       "      <td>2018-01-03 17:52:23.945324800</td>\n",
       "      <td>2016-10-08 10:34:01</td>\n",
       "      <td>2017-09-14 22:50:53.500000</td>\n",
       "      <td>2018-01-23 20:43:19</td>\n",
       "      <td>2018-05-07 16:31:45</td>\n",
       "      <td>2018-09-11 19:48:28</td>\n",
       "      <td>NaN</td>\n",
       "    </tr>\n",
       "    <tr>\n",
       "      <th>order_delivered_customer_date</th>\n",
       "      <td>115037</td>\n",
       "      <td>2018-01-13 06:29:34.791693312</td>\n",
       "      <td>2016-10-11 13:46:32</td>\n",
       "      <td>2017-09-25 13:56:47</td>\n",
       "      <td>2018-02-01 19:16:53</td>\n",
       "      <td>2018-05-15 16:51:55</td>\n",
       "      <td>2018-10-17 13:22:46</td>\n",
       "      <td>NaN</td>\n",
       "    </tr>\n",
       "    <tr>\n",
       "      <th>payment_value</th>\n",
       "      <td>118434.0</td>\n",
       "      <td>172.847757</td>\n",
       "      <td>0.0</td>\n",
       "      <td>60.86</td>\n",
       "      <td>108.2</td>\n",
       "      <td>189.24</td>\n",
       "      <td>13664.08</td>\n",
       "      <td>268.256631</td>\n",
       "    </tr>\n",
       "  </tbody>\n",
       "</table>\n",
       "</div>"
      ],
      "text/plain": [
       "                                  count                           mean  \\\n",
       "order_purchase_timestamp         118434  2017-12-30 04:00:24.559636480   \n",
       "order_delivered_carrier_date     116360  2018-01-03 17:52:23.945324800   \n",
       "order_delivered_customer_date    115037  2018-01-13 06:29:34.791693312   \n",
       "payment_value                  118434.0                     172.847757   \n",
       "\n",
       "                                               min  \\\n",
       "order_purchase_timestamp       2016-09-04 21:15:19   \n",
       "order_delivered_carrier_date   2016-10-08 10:34:01   \n",
       "order_delivered_customer_date  2016-10-11 13:46:32   \n",
       "payment_value                                  0.0   \n",
       "\n",
       "                                                         25%  \\\n",
       "order_purchase_timestamp       2017-09-11 12:53:55.249999872   \n",
       "order_delivered_carrier_date      2017-09-14 22:50:53.500000   \n",
       "order_delivered_customer_date            2017-09-25 13:56:47   \n",
       "payment_value                                          60.86   \n",
       "\n",
       "                                                      50%  \\\n",
       "order_purchase_timestamp       2018-01-17 17:57:56.500000   \n",
       "order_delivered_carrier_date          2018-01-23 20:43:19   \n",
       "order_delivered_customer_date         2018-02-01 19:16:53   \n",
       "payment_value                                       108.2   \n",
       "\n",
       "                                               75%                  max  \\\n",
       "order_purchase_timestamp       2018-05-03 19:05:01  2018-10-17 17:30:18   \n",
       "order_delivered_carrier_date   2018-05-07 16:31:45  2018-09-11 19:48:28   \n",
       "order_delivered_customer_date  2018-05-15 16:51:55  2018-10-17 13:22:46   \n",
       "payment_value                               189.24             13664.08   \n",
       "\n",
       "                                      std  \n",
       "order_purchase_timestamp              NaN  \n",
       "order_delivered_carrier_date          NaN  \n",
       "order_delivered_customer_date         NaN  \n",
       "payment_value                  268.256631  "
      ]
     },
     "execution_count": 93,
     "metadata": {},
     "output_type": "execute_result"
    }
   ],
   "source": [
    "#A summary Statistics of the data\n",
    "rfm_data.describe().T"
   ]
  },
  {
   "cell_type": "code",
   "execution_count": 94,
   "id": "bc09cebe-18e5-49d4-9138-b3a194604b84",
   "metadata": {},
   "outputs": [
    {
     "data": {
      "text/plain": [
       "(118434, 10)"
      ]
     },
     "execution_count": 94,
     "metadata": {},
     "output_type": "execute_result"
    }
   ],
   "source": [
    "rfm_data.shape # This confirm that no customer transaction is lost,except that unnecessary columns are removed"
   ]
  },
  {
   "cell_type": "code",
   "execution_count": 95,
   "id": "98c8c143-414d-4696-9e98-466e5f4a6536",
   "metadata": {},
   "outputs": [
    {
     "name": "stdout",
     "output_type": "stream",
     "text": [
      "                    mean   count\n",
      "order_status                    \n",
      "processing    267.675653     375\n",
      "canceled      250.958819     745\n",
      "invoiced      220.940724     373\n",
      "unavailable   194.879538     650\n",
      "delivered     171.912629  115038\n",
      "shipped       158.353526    1245\n",
      "created       137.620000       5\n",
      "approved      100.900000       3\n"
     ]
    }
   ],
   "source": [
    "#Analyze Order Status Impact\n",
    "#To see if order status affects payment value\n",
    "\n",
    "order_status_payment = rfm_data.groupby(\"order_status\")[\"payment_value\"].agg([\"mean\", \"count\"]).sort_values(\"mean\", ascending=False)\n",
    "print(order_status_payment)\n"
   ]
  },
  {
   "cell_type": "code",
   "execution_count": 96,
   "id": "347d64a9-df71-4dec-9ee0-67943c834874",
   "metadata": {},
   "outputs": [
    {
     "data": {
      "image/png": "[encoded data removed]",
      "text/plain": [
       "<Figure size 800x400 with 1 Axes>"
      ]
     },
     "metadata": {},
     "output_type": "display_data"
    }
   ],
   "source": [
    "import matplotlib.pyplot as plt\n",
    "import seaborn as sns\n",
    "\n",
    "# Count of each order status\n",
    "plt.figure(figsize=(8, 4))\n",
    "sns.countplot(y=rfm_data['order_status'], order=rfm_data['order_status'].value_counts().index, palette='viridis')\n",
    "plt.title(\"Order Status Distribution\")\n",
    "plt.xlabel(\"Count\")\n",
    "plt.ylabel(\"Order Status\")\n",
    "plt.show()\n"
   ]
  },
  {
   "cell_type": "code",
   "execution_count": 67,
   "id": "5eebc1b4-1fac-42fd-af27-19e0aa9ad1d4",
   "metadata": {},
   "outputs": [
    {
     "data": {
      "image/png": "[encoded data removed]",
      "text/plain": [
       "<Figure size 1200x500 with 1 Axes>"
      ]
     },
     "metadata": {},
     "output_type": "display_data"
    }
   ],
   "source": [
    "# Convert purchase timestamp to datetime format\n",
    "rfm_data['order_purchase_timestamp'] = pd.to_datetime(rfm_data['order_purchase_timestamp'])\n",
    "\n",
    "# Extract year-month for trend analysis\n",
    "rfm_data['order_month'] = rfm_data['order_purchase_timestamp'].dt.to_period('M')\n",
    "\n",
    "# Plot purchase trends\n",
    "plt.figure(figsize=(12, 5))\n",
    "rfm_data['order_month'].value_counts().sort_index().plot(kind='line', marker='o', color='b')\n",
    "plt.title(\"Number of Orders Over Time\")\n",
    "plt.xlabel(\"Year-Month\")\n",
    "plt.ylabel(\"Number of Orders\")\n",
    "plt.grid()\n",
    "plt.show()\n"
   ]
  },
  {
   "cell_type": "code",
   "execution_count": 68,
   "id": "c95742d9-a17e-4482-9ca2-c23386d6bad7",
   "metadata": {},
   "outputs": [
    {
     "data": {
      "text/plain": [
       "payment_type\n",
       "credit_card    179.807426\n",
       "boleto         177.402470\n",
       "debit_card     151.011731\n",
       "voucher         67.520242\n",
       "not_defined      0.000000\n",
       "Name: payment_value, dtype: float64"
      ]
     },
     "execution_count": 68,
     "metadata": {},
     "output_type": "execute_result"
    }
   ],
   "source": [
    "#Explore Payment Type Preferences\n",
    "#To see if a payment type is linked to higher spending:\n",
    "rfm_data.groupby(\"payment_type\")[\"payment_value\"].mean().sort_values(ascending=False)\n"
   ]
  },
  {
   "cell_type": "code",
   "execution_count": 97,
   "id": "06f4e5fd-80bb-4574-85da-5e7512a9a806",
   "metadata": {},
   "outputs": [
    {
     "data": {
      "image/png": "[encoded data removed]",
      "text/plain": [
       "<Figure size 800x400 with 1 Axes>"
      ]
     },
     "metadata": {},
     "output_type": "display_data"
    }
   ],
   "source": [
    "# Count of payment types\n",
    "plt.figure(figsize=(8, 4))\n",
    "sns.countplot(y=rfm_data['payment_type'], order=rfm_data['payment_type'].value_counts().index, palette='coolwarm')\n",
    "plt.title(\"Payment Type Distribution\")\n",
    "plt.xlabel(\"Count\")\n",
    "plt.ylabel(\"Payment Type\")\n",
    "plt.show()\n"
   ]
  },
  {
   "cell_type": "code",
   "execution_count": 98,
   "id": "ba61dc70-a060-4f49-9ad6-63bc975a586b",
   "metadata": {},
   "outputs": [
    {
     "data": {
      "text/plain": [
       "customer_city\n",
       "pianco                     2324.990000\n",
       "nova esperanca do piria    2252.660000\n",
       "engenheiro navarro         2106.550000\n",
       "mariental                  1867.850000\n",
       "paranatinga                1687.186667\n",
       "loreto                     1643.640000\n",
       "ibitita                    1534.580000\n",
       "barao ataliba nogueira     1351.510000\n",
       "barra longa                1341.550000\n",
       "passagem                   1265.830000\n",
       "Name: payment_value, dtype: float64"
      ]
     },
     "execution_count": 98,
     "metadata": {},
     "output_type": "execute_result"
    }
   ],
   "source": [
    "#Finding Which cities have high-value transactions\n",
    "#Do customers in certain states pay more on average?\n",
    "\n",
    "rfm_data.groupby(\"customer_city\")[\"payment_value\"].mean().sort_values(ascending=False).head(10)"
   ]
  },
  {
   "cell_type": "code",
   "execution_count": 99,
   "id": "0d5e41bd-5e62-4f31-a069-162930ef052b",
   "metadata": {},
   "outputs": [
    {
     "data": {
      "image/png": "[encoded data removed]",
      "text/plain": [
       "<Figure size 1000x400 with 1 Axes>"
      ]
     },
     "metadata": {},
     "output_type": "display_data"
    }
   ],
   "source": [
    "# Top 10 cities with most customers\n",
    "top_cities = rfm_data['customer_city'].value_counts().head(10)\n",
    "\n",
    "plt.figure(figsize=(10, 4))\n",
    "sns.barplot(x=top_cities.index, y=top_cities.values, palette='magma')\n",
    "plt.xticks(rotation=45)\n",
    "plt.title(\"Top 10 Cities with Most Customers\")\n",
    "plt.xlabel(\"City\")\n",
    "plt.ylabel(\"Number of Customers\")\n",
    "plt.show()\n"
   ]
  },
  {
   "cell_type": "code",
   "execution_count": 111,
   "id": "26169a50-abc0-4b60-b83f-e10de820aea5",
   "metadata": {},
   "outputs": [],
   "source": [
    "rfm_data.loc[rfm_data['order_status'] == 'canceled', 'order_delivered_customer_date'] = pd.NaT\n"
   ]
  },
  {
   "cell_type": "code",
   "execution_count": 112,
   "id": "1afda9e4-f5b0-424d-b52e-4901710dc46e",
   "metadata": {},
   "outputs": [
    {
     "data": {
      "image/png": "[encoded data removed]",
      "text/plain": [
       "<Figure size 800x400 with 1 Axes>"
      ]
     },
     "metadata": {},
     "output_type": "display_data"
    }
   ],
   "source": [
    "# Calculate delivery time\n",
    "rfm_data['delivery_days'] = (rfm_data['order_delivered_customer_date'] - rfm_data['order_purchase_timestamp']).dt.days\n",
    "\n",
    "# Plot distribution of delivery time\n",
    "plt.figure(figsize=(8, 4))\n",
    "sns.histplot(rfm_data['delivery_days'].dropna(), bins=30, kde=True)\n",
    "plt.title(\"Distribution of Delivery Time (in days)\")\n",
    "plt.xlabel(\"Delivery Days\")\n",
    "plt.ylabel(\"Frequency\")\n",
    "plt.show()\n"
   ]
  },
  {
   "cell_type": "code",
   "execution_count": 100,
   "id": "cd1ac306-77c6-449a-869b-3925d487d75c",
   "metadata": {},
   "outputs": [
    {
     "data": {
      "text/plain": [
       "order_id                                 object\n",
       "order_status                             object\n",
       "order_purchase_timestamp         datetime64[ns]\n",
       "order_delivered_carrier_date     datetime64[ns]\n",
       "order_delivered_customer_date    datetime64[ns]\n",
       "payment_type                             object\n",
       "payment_value                           float64\n",
       "customer_unique_id                       object\n",
       "customer_city                            object\n",
       "customer_state                           object\n",
       "dtype: object"
      ]
     },
     "execution_count": 100,
     "metadata": {},
     "output_type": "execute_result"
    }
   ],
   "source": [
    "rfm_data.dtypes"
   ]
  },
  {
   "cell_type": "code",
   "execution_count": 101,
   "id": "ff995a8d-4cf5-4e05-b1a3-52b758635672",
   "metadata": {},
   "outputs": [
    {
     "name": "stdout",
     "output_type": "stream",
     "text": [
      "customer_city\n",
      "novo hamburgo    2404.720000\n",
      "paranagua        1950.200000\n",
      "goiania          1551.040000\n",
      "quissama         1400.740000\n",
      "porto alegre     1381.022000\n",
      "florianopolis    1371.608000\n",
      "porto seguro     1346.410000\n",
      "piratininga       898.510000\n",
      "uberaba           845.088000\n",
      "praia grande      818.563333\n",
      "Name: payment_value, dtype: float64\n"
     ]
    }
   ],
   "source": [
    "# Group by customer city and order status\n",
    "city_cancellation = rfm_data[rfm_data[\"order_status\"] == \"canceled\"].groupby(\"customer_city\")[\"payment_value\"].mean().sort_values(ascending=False)\n",
    "print(city_cancellation.head(10))  # Top 10 cities with highest average canceled payment_value\n"
   ]
  },
  {
   "cell_type": "code",
   "execution_count": 113,
   "id": "6323a4ed-1699-47b1-a400-780d296ef5fc",
   "metadata": {},
   "outputs": [
    {
     "name": "stdout",
     "output_type": "stream",
     "text": [
      "order_status\n",
      "delivered      12.018873\n",
      "approved             NaN\n",
      "canceled             NaN\n",
      "created              NaN\n",
      "invoiced             NaN\n",
      "processing           NaN\n",
      "shipped              NaN\n",
      "unavailable          NaN\n",
      "Name: delivery_days, dtype: float64\n"
     ]
    }
   ],
   "source": [
    "# Compare average delivery time for different order statuses\n",
    "delivery_analysis = rfm_data.groupby(\"order_status\")[\"delivery_days\"].mean().sort_values()\n",
    "print(delivery_analysis)"
   ]
  },
  {
   "cell_type": "code",
   "execution_count": 114,
   "id": "6caaabe0-ed5c-45a8-856a-85a35d371853",
   "metadata": {},
   "outputs": [
    {
     "data": {
      "text/html": [
       "<div>\n",
       "<style scoped>\n",
       "    .dataframe tbody tr th:only-of-type {\n",
       "        vertical-align: middle;\n",
       "    }\n",
       "\n",
       "    .dataframe tbody tr th {\n",
       "        vertical-align: top;\n",
       "    }\n",
       "\n",
       "    .dataframe thead th {\n",
       "        text-align: right;\n",
       "    }\n",
       "</style>\n",
       "<table border=\"1\" class=\"dataframe\">\n",
       "  <thead>\n",
       "    <tr style=\"text-align: right;\">\n",
       "      <th></th>\n",
       "      <th>order_id</th>\n",
       "      <th>order_status</th>\n",
       "      <th>order_purchase_timestamp</th>\n",
       "      <th>order_delivered_carrier_date</th>\n",
       "      <th>order_delivered_customer_date</th>\n",
       "      <th>payment_type</th>\n",
       "      <th>payment_value</th>\n",
       "      <th>customer_unique_id</th>\n",
       "      <th>customer_city</th>\n",
       "      <th>customer_state</th>\n",
       "      <th>delivery_days</th>\n",
       "    </tr>\n",
       "  </thead>\n",
       "  <tbody>\n",
       "    <tr>\n",
       "      <th>0</th>\n",
       "      <td>e481f51cbdc54678b7cc49136f2d6af7</td>\n",
       "      <td>delivered</td>\n",
       "      <td>2017-10-02 10:56:33</td>\n",
       "      <td>2017-10-04 19:55:00</td>\n",
       "      <td>2017-10-10 21:25:13</td>\n",
       "      <td>credit_card</td>\n",
       "      <td>18.12</td>\n",
       "      <td>7c396fd4830fd04220f754e42b4e5bff</td>\n",
       "      <td>sao paulo</td>\n",
       "      <td>SP</td>\n",
       "      <td>8.0</td>\n",
       "    </tr>\n",
       "    <tr>\n",
       "      <th>1</th>\n",
       "      <td>e481f51cbdc54678b7cc49136f2d6af7</td>\n",
       "      <td>delivered</td>\n",
       "      <td>2017-10-02 10:56:33</td>\n",
       "      <td>2017-10-04 19:55:00</td>\n",
       "      <td>2017-10-10 21:25:13</td>\n",
       "      <td>voucher</td>\n",
       "      <td>2.00</td>\n",
       "      <td>7c396fd4830fd04220f754e42b4e5bff</td>\n",
       "      <td>sao paulo</td>\n",
       "      <td>SP</td>\n",
       "      <td>8.0</td>\n",
       "    </tr>\n",
       "    <tr>\n",
       "      <th>2</th>\n",
       "      <td>e481f51cbdc54678b7cc49136f2d6af7</td>\n",
       "      <td>delivered</td>\n",
       "      <td>2017-10-02 10:56:33</td>\n",
       "      <td>2017-10-04 19:55:00</td>\n",
       "      <td>2017-10-10 21:25:13</td>\n",
       "      <td>voucher</td>\n",
       "      <td>18.59</td>\n",
       "      <td>7c396fd4830fd04220f754e42b4e5bff</td>\n",
       "      <td>sao paulo</td>\n",
       "      <td>SP</td>\n",
       "      <td>8.0</td>\n",
       "    </tr>\n",
       "    <tr>\n",
       "      <th>3</th>\n",
       "      <td>53cdb2fc8bc7dce0b6741e2150273451</td>\n",
       "      <td>delivered</td>\n",
       "      <td>2018-07-24 20:41:37</td>\n",
       "      <td>2018-07-26 14:31:00</td>\n",
       "      <td>2018-08-07 15:27:45</td>\n",
       "      <td>boleto</td>\n",
       "      <td>141.46</td>\n",
       "      <td>af07308b275d755c9edb36a90c618231</td>\n",
       "      <td>barreiras</td>\n",
       "      <td>BA</td>\n",
       "      <td>13.0</td>\n",
       "    </tr>\n",
       "    <tr>\n",
       "      <th>4</th>\n",
       "      <td>47770eb9100c2d0c44946d9cf07ec65d</td>\n",
       "      <td>delivered</td>\n",
       "      <td>2018-08-08 08:38:49</td>\n",
       "      <td>2018-08-08 13:50:00</td>\n",
       "      <td>2018-08-17 18:06:29</td>\n",
       "      <td>credit_card</td>\n",
       "      <td>179.12</td>\n",
       "      <td>3a653a41f6f9fc3d2a113cf8398680e8</td>\n",
       "      <td>vianopolis</td>\n",
       "      <td>GO</td>\n",
       "      <td>9.0</td>\n",
       "    </tr>\n",
       "    <tr>\n",
       "      <th>...</th>\n",
       "      <td>...</td>\n",
       "      <td>...</td>\n",
       "      <td>...</td>\n",
       "      <td>...</td>\n",
       "      <td>...</td>\n",
       "      <td>...</td>\n",
       "      <td>...</td>\n",
       "      <td>...</td>\n",
       "      <td>...</td>\n",
       "      <td>...</td>\n",
       "      <td>...</td>\n",
       "    </tr>\n",
       "    <tr>\n",
       "      <th>118429</th>\n",
       "      <td>63943bddc261676b46f01ca7ac2f7bd8</td>\n",
       "      <td>delivered</td>\n",
       "      <td>2018-02-06 12:58:58</td>\n",
       "      <td>2018-02-07 23:22:42</td>\n",
       "      <td>2018-02-28 17:37:56</td>\n",
       "      <td>credit_card</td>\n",
       "      <td>195.00</td>\n",
       "      <td>da62f9e57a76d978d02ab5362c509660</td>\n",
       "      <td>praia grande</td>\n",
       "      <td>SP</td>\n",
       "      <td>22.0</td>\n",
       "    </tr>\n",
       "    <tr>\n",
       "      <th>118430</th>\n",
       "      <td>83c1379a015df1e13d02aae0204711ab</td>\n",
       "      <td>delivered</td>\n",
       "      <td>2017-08-27 14:46:43</td>\n",
       "      <td>2017-08-28 20:52:26</td>\n",
       "      <td>2017-09-21 11:24:17</td>\n",
       "      <td>credit_card</td>\n",
       "      <td>271.01</td>\n",
       "      <td>737520a9aad80b3fbbdad19b66b37b30</td>\n",
       "      <td>nova vicosa</td>\n",
       "      <td>BA</td>\n",
       "      <td>24.0</td>\n",
       "    </tr>\n",
       "    <tr>\n",
       "      <th>118431</th>\n",
       "      <td>11c177c8e97725db2631073c19f07b62</td>\n",
       "      <td>delivered</td>\n",
       "      <td>2018-01-08 21:28:27</td>\n",
       "      <td>2018-01-12 15:35:03</td>\n",
       "      <td>2018-01-25 23:32:54</td>\n",
       "      <td>credit_card</td>\n",
       "      <td>441.16</td>\n",
       "      <td>5097a5312c8b157bb7be58ae360ef43c</td>\n",
       "      <td>japuiba</td>\n",
       "      <td>RJ</td>\n",
       "      <td>17.0</td>\n",
       "    </tr>\n",
       "    <tr>\n",
       "      <th>118432</th>\n",
       "      <td>11c177c8e97725db2631073c19f07b62</td>\n",
       "      <td>delivered</td>\n",
       "      <td>2018-01-08 21:28:27</td>\n",
       "      <td>2018-01-12 15:35:03</td>\n",
       "      <td>2018-01-25 23:32:54</td>\n",
       "      <td>credit_card</td>\n",
       "      <td>441.16</td>\n",
       "      <td>5097a5312c8b157bb7be58ae360ef43c</td>\n",
       "      <td>japuiba</td>\n",
       "      <td>RJ</td>\n",
       "      <td>17.0</td>\n",
       "    </tr>\n",
       "    <tr>\n",
       "      <th>118433</th>\n",
       "      <td>66dea50a8b16d9b4dee7af250b4be1a5</td>\n",
       "      <td>delivered</td>\n",
       "      <td>2018-03-08 20:57:30</td>\n",
       "      <td>2018-03-09 22:11:59</td>\n",
       "      <td>2018-03-16 13:08:30</td>\n",
       "      <td>debit_card</td>\n",
       "      <td>86.86</td>\n",
       "      <td>60350aa974b26ff12caad89e55993bd6</td>\n",
       "      <td>lapa</td>\n",
       "      <td>PR</td>\n",
       "      <td>7.0</td>\n",
       "    </tr>\n",
       "  </tbody>\n",
       "</table>\n",
       "<p>118434 rows × 11 columns</p>\n",
       "</div>"
      ],
      "text/plain": [
       "                                order_id order_status  \\\n",
       "0       e481f51cbdc54678b7cc49136f2d6af7    delivered   \n",
       "1       e481f51cbdc54678b7cc49136f2d6af7    delivered   \n",
       "2       e481f51cbdc54678b7cc49136f2d6af7    delivered   \n",
       "3       53cdb2fc8bc7dce0b6741e2150273451    delivered   \n",
       "4       47770eb9100c2d0c44946d9cf07ec65d    delivered   \n",
       "...                                  ...          ...   \n",
       "118429  63943bddc261676b46f01ca7ac2f7bd8    delivered   \n",
       "118430  83c1379a015df1e13d02aae0204711ab    delivered   \n",
       "118431  11c177c8e97725db2631073c19f07b62    delivered   \n",
       "118432  11c177c8e97725db2631073c19f07b62    delivered   \n",
       "118433  66dea50a8b16d9b4dee7af250b4be1a5    delivered   \n",
       "\n",
       "       order_purchase_timestamp order_delivered_carrier_date  \\\n",
       "0           2017-10-02 10:56:33          2017-10-04 19:55:00   \n",
       "1           2017-10-02 10:56:33          2017-10-04 19:55:00   \n",
       "2           2017-10-02 10:56:33          2017-10-04 19:55:00   \n",
       "3           2018-07-24 20:41:37          2018-07-26 14:31:00   \n",
       "4           2018-08-08 08:38:49          2018-08-08 13:50:00   \n",
       "...                         ...                          ...   \n",
       "118429      2018-02-06 12:58:58          2018-02-07 23:22:42   \n",
       "118430      2017-08-27 14:46:43          2017-08-28 20:52:26   \n",
       "118431      2018-01-08 21:28:27          2018-01-12 15:35:03   \n",
       "118432      2018-01-08 21:28:27          2018-01-12 15:35:03   \n",
       "118433      2018-03-08 20:57:30          2018-03-09 22:11:59   \n",
       "\n",
       "       order_delivered_customer_date payment_type  payment_value  \\\n",
       "0                2017-10-10 21:25:13  credit_card          18.12   \n",
       "1                2017-10-10 21:25:13      voucher           2.00   \n",
       "2                2017-10-10 21:25:13      voucher          18.59   \n",
       "3                2018-08-07 15:27:45       boleto         141.46   \n",
       "4                2018-08-17 18:06:29  credit_card         179.12   \n",
       "...                              ...          ...            ...   \n",
       "118429           2018-02-28 17:37:56  credit_card         195.00   \n",
       "118430           2017-09-21 11:24:17  credit_card         271.01   \n",
       "118431           2018-01-25 23:32:54  credit_card         441.16   \n",
       "118432           2018-01-25 23:32:54  credit_card         441.16   \n",
       "118433           2018-03-16 13:08:30   debit_card          86.86   \n",
       "\n",
       "                      customer_unique_id customer_city customer_state  \\\n",
       "0       7c396fd4830fd04220f754e42b4e5bff     sao paulo             SP   \n",
       "1       7c396fd4830fd04220f754e42b4e5bff     sao paulo             SP   \n",
       "2       7c396fd4830fd04220f754e42b4e5bff     sao paulo             SP   \n",
       "3       af07308b275d755c9edb36a90c618231     barreiras             BA   \n",
       "4       3a653a41f6f9fc3d2a113cf8398680e8    vianopolis             GO   \n",
       "...                                  ...           ...            ...   \n",
       "118429  da62f9e57a76d978d02ab5362c509660  praia grande             SP   \n",
       "118430  737520a9aad80b3fbbdad19b66b37b30   nova vicosa             BA   \n",
       "118431  5097a5312c8b157bb7be58ae360ef43c       japuiba             RJ   \n",
       "118432  5097a5312c8b157bb7be58ae360ef43c       japuiba             RJ   \n",
       "118433  60350aa974b26ff12caad89e55993bd6          lapa             PR   \n",
       "\n",
       "        delivery_days  \n",
       "0                 8.0  \n",
       "1                 8.0  \n",
       "2                 8.0  \n",
       "3                13.0  \n",
       "4                 9.0  \n",
       "...               ...  \n",
       "118429           22.0  \n",
       "118430           24.0  \n",
       "118431           17.0  \n",
       "118432           17.0  \n",
       "118433            7.0  \n",
       "\n",
       "[118434 rows x 11 columns]"
      ]
     },
     "execution_count": 114,
     "metadata": {},
     "output_type": "execute_result"
    }
   ],
   "source": [
    "#The cleaned data after EDA\n",
    "rfm_data"
   ]
  },
  {
   "cell_type": "code",
   "execution_count": null,
   "id": "e22131d3-5c7a-4654-8661-00ef8930ca83",
   "metadata": {},
   "outputs": [],
   "source": []
  }
 ],
 "metadata": {
  "kernelspec": {
   "display_name": "Python 3 (ipykernel)",
   "language": "python",
   "name": "python3"
  },
  "language_info": {
   "codemirror_mode": {
    "name": "ipython",
    "version": 3
   },
   "file_extension": ".py",
   "mimetype": "text/x-python",
   "name": "python",
   "nbconvert_exporter": "python",
   "pygments_lexer": "ipython3",
   "version": "3.10.0"
  }
 },
 "nbformat": 4,
 "nbformat_minor": 5
}
